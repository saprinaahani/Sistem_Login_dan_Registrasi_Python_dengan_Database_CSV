{
 "cells": [
  {
   "cell_type": "code",
   "execution_count": 3,
   "id": "c97d79fb",
   "metadata": {},
   "outputs": [],
   "source": [
    "import csv\n",
    "\n",
    "# Create or open the users.csv file in write mode\n",
    "with open('users.csv', mode='w', newline='') as file:\n",
    "    # Create a CSV writer object\n",
    "    csv_writer = csv.writer(file)\n",
    "\n",
    "    # Write the header (first row)\n",
    "    csv_writer.writerow(['Nama', 'Password', 'Hak Akses'])"
   ]
  },
  {
   "cell_type": "code",
   "execution_count": null,
   "id": "9e394da2",
   "metadata": {},
   "outputs": [],
   "source": []
  }
 ],
 "metadata": {
  "kernelspec": {
   "display_name": "Python 3 (ipykernel)",
   "language": "python",
   "name": "python3"
  },
  "language_info": {
   "codemirror_mode": {
    "name": "ipython",
    "version": 3
   },
   "file_extension": ".py",
   "mimetype": "text/x-python",
   "name": "python",
   "nbconvert_exporter": "python",
   "pygments_lexer": "ipython3",
   "version": "3.10.9"
  }
 },
 "nbformat": 4,
 "nbformat_minor": 5
}
